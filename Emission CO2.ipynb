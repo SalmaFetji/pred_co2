{
 "cells": [
  {
   "cell_type": "code",
   "execution_count": null,
   "id": "326aae52",
   "metadata": {},
   "outputs": [],
   "source": [
    "#Titre "
   ]
  },
  {
   "cell_type": "code",
   "execution_count": null,
   "id": "20043601",
   "metadata": {},
   "outputs": [
    {
     "data": {
      "application/javascript": [
       "\n",
       "        if (window._pyforest_update_imports_cell) { window._pyforest_update_imports_cell('import pandas as pd'); }\n",
       "    "
      ],
      "text/plain": [
       "<IPython.core.display.Javascript object>"
      ]
     },
     "metadata": {},
     "output_type": "display_data"
    }
   ],
   "source": [
    "#Import du Dataset\n",
    "df_raw = pd.read_csv(\"C:/Users/User/Desktop/emissions_CO2/.ignore/2016_Building_Energy_Benchmarking.csv\")\n",
    "df_raw"
   ]
  },
  {
   "cell_type": "code",
   "execution_count": null,
   "id": "e55ff23e",
   "metadata": {},
   "outputs": [],
   "source": []
  }
 ],
 "metadata": {
  "kernelspec": {
   "display_name": "Python 3",
   "language": "python",
   "name": "python3"
  },
  "language_info": {
   "codemirror_mode": {
    "name": "ipython",
    "version": 3
   },
   "file_extension": ".py",
   "mimetype": "text/x-python",
   "name": "python",
   "nbconvert_exporter": "python",
   "pygments_lexer": "ipython3",
   "version": "3.8.8"
  }
 },
 "nbformat": 4,
 "nbformat_minor": 5
}
